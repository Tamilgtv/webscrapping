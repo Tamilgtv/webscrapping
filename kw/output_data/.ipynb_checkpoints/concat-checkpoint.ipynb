{
 "cells": [
  {
   "cell_type": "code",
   "execution_count": 1,
   "id": "massive-nation",
   "metadata": {},
   "outputs": [],
   "source": [
    "import pandas as pd\n",
    "pd.set_option('display.max_columns', 65)"
   ]
  },
  {
   "cell_type": "code",
   "execution_count": 2,
   "id": "surrounded-premium",
   "metadata": {},
   "outputs": [],
   "source": [
    "import os\n",
    "import glob\n",
    "#directory\n",
    "path = os.getcwd() \n",
    "\n",
    "#getting All csv file names from the directory\n",
    "csv_files = glob.glob(os.path.join(path, \"*.csv\"))"
   ]
  },
  {
   "cell_type": "code",
   "execution_count": 3,
   "id": "affiliated-charge",
   "metadata": {},
   "outputs": [
    {
     "data": {
      "text/plain": [
       "['D:\\\\Tamil\\\\AIMLEAP\\\\CBN\\\\CBN_BOT\\\\kw\\\\output_data\\\\kw_data-emailSelenium_40k_42k.csv',\n",
       " 'D:\\\\Tamil\\\\AIMLEAP\\\\CBN\\\\CBN_BOT\\\\kw\\\\output_data\\\\kw_data-emailSelenium_42k_43k.csv',\n",
       " 'D:\\\\Tamil\\\\AIMLEAP\\\\CBN\\\\CBN_BOT\\\\kw\\\\output_data\\\\kw_data-emailSelenium_43k_44k.csv',\n",
       " 'D:\\\\Tamil\\\\AIMLEAP\\\\CBN\\\\CBN_BOT\\\\kw\\\\output_data\\\\kw_data-emailSelenium_44k_45K.csv',\n",
       " 'D:\\\\Tamil\\\\AIMLEAP\\\\CBN\\\\CBN_BOT\\\\kw\\\\output_data\\\\kw_data-emailSelenium_45k_46k.csv',\n",
       " 'D:\\\\Tamil\\\\AIMLEAP\\\\CBN\\\\CBN_BOT\\\\kw\\\\output_data\\\\kw_data-emailSelenium_46k_47K.csv',\n",
       " 'D:\\\\Tamil\\\\AIMLEAP\\\\CBN\\\\CBN_BOT\\\\kw\\\\output_data\\\\kw_data-emailSelenium_47k_48k.csv',\n",
       " 'D:\\\\Tamil\\\\AIMLEAP\\\\CBN\\\\CBN_BOT\\\\kw\\\\output_data\\\\kw_data-emailSelenium_48k_49k.csv',\n",
       " 'D:\\\\Tamil\\\\AIMLEAP\\\\CBN\\\\CBN_BOT\\\\kw\\\\output_data\\\\kw_data-emailSelenium_49k_50k.csv']"
      ]
     },
     "execution_count": 3,
     "metadata": {},
     "output_type": "execute_result"
    }
   ],
   "source": [
    "csv_files"
   ]
  },
  {
   "cell_type": "code",
   "execution_count": 4,
   "id": "approved-viking",
   "metadata": {},
   "outputs": [],
   "source": [
    "overall_op = pd.read_csv(csv_files[0])\n",
    "for i in range(len(csv_files)):\n",
    "    if i != 0:\n",
    "        a = pd.read_csv(csv_files[i])\n",
    "        overall_op = pd.concat([overall_op,a])\n"
   ]
  },
  {
   "cell_type": "code",
   "execution_count": 6,
   "id": "selective-booking",
   "metadata": {},
   "outputs": [],
   "source": [
    "overall_op.to_csv('kw_data-emailSelenium_40k_50k.csv')"
   ]
  },
  {
   "cell_type": "code",
   "execution_count": null,
   "id": "floppy-saint",
   "metadata": {},
   "outputs": [],
   "source": []
  }
 ],
 "metadata": {
  "kernelspec": {
   "display_name": "Python 3",
   "language": "python",
   "name": "python3"
  },
  "language_info": {
   "codemirror_mode": {
    "name": "ipython",
    "version": 3
   },
   "file_extension": ".py",
   "mimetype": "text/x-python",
   "name": "python",
   "nbconvert_exporter": "python",
   "pygments_lexer": "ipython3",
   "version": "3.7.9"
  }
 },
 "nbformat": 4,
 "nbformat_minor": 5
}
