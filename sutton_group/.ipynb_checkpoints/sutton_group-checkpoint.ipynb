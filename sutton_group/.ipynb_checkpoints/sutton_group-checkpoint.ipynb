{
 "cells": [
  {
   "cell_type": "code",
   "execution_count": 1,
   "id": "stupid-princess",
   "metadata": {},
   "outputs": [],
   "source": [
    "from selenium import webdriver"
   ]
  },
  {
   "cell_type": "code",
   "execution_count": 2,
   "id": "ahead-green",
   "metadata": {},
   "outputs": [],
   "source": [
    "driver = webdriver.Chrome(executable_path='D:/Tamil/chrome driver/chromedriver.exe')"
   ]
  },
  {
   "cell_type": "code",
   "execution_count": 4,
   "id": "premier-richards",
   "metadata": {},
   "outputs": [],
   "source": [
    "driver.get('https://www.sutton.com/agent?bounding_box={%22top_left%22:{%22lat%22:70,%22lon%22:-142},%22bottom_right%22:{%22lat%22:42,%22lon%22:-50},%22pv%22:null,%22cty%22:null}&paginate=24&page=1#grid-view')"
   ]
  },
  {
   "cell_type": "code",
   "execution_count": 5,
   "id": "documentary-completion",
   "metadata": {},
   "outputs": [],
   "source": [
    "import pandas as pd"
   ]
  },
  {
   "cell_type": "code",
   "execution_count": 16,
   "id": "geological-jerusalem",
   "metadata": {},
   "outputs": [],
   "source": [
    "import time"
   ]
  },
  {
   "cell_type": "code",
   "execution_count": 23,
   "id": "illegal-equality",
   "metadata": {},
   "outputs": [],
   "source": [
    "df = pd.DataFrame([])\n",
    "z = 0\n",
    "for page in range(1,270):\n",
    "\n",
    "    driver.get('https://www.sutton.com/agent?bounding_box={%22top_left%22:{%22lat%22:70,%22lon%22:-142},%22bottom_right%22:{%22lat%22:42,%22lon%22:-50}}&paginate=24&page='+str(page)+'#grid-view')\n",
    "    agent_link = driver.find_elements_by_xpath('//*[@class=\"flex items-center justify-center px-4\"]/a')\n",
    "    for link in agent_link:\n",
    "        df.loc[z,'links'] = link.get_attribute('href')\n",
    "        z = z+1\n"
   ]
  },
  {
   "cell_type": "code",
   "execution_count": 25,
   "id": "split-engine",
   "metadata": {},
   "outputs": [
    {
     "data": {
      "text/html": [
       "<div>\n",
       "<style scoped>\n",
       "    .dataframe tbody tr th:only-of-type {\n",
       "        vertical-align: middle;\n",
       "    }\n",
       "\n",
       "    .dataframe tbody tr th {\n",
       "        vertical-align: top;\n",
       "    }\n",
       "\n",
       "    .dataframe thead th {\n",
       "        text-align: right;\n",
       "    }\n",
       "</style>\n",
       "<table border=\"1\" class=\"dataframe\">\n",
       "  <thead>\n",
       "    <tr style=\"text-align: right;\">\n",
       "      <th></th>\n",
       "      <th>links</th>\n",
       "    </tr>\n",
       "  </thead>\n",
       "  <tbody>\n",
       "    <tr>\n",
       "      <th>0</th>\n",
       "      <td>https://www.sutton.com/agent/eric-hasiak-56875</td>\n",
       "    </tr>\n",
       "    <tr>\n",
       "      <th>1</th>\n",
       "      <td>https://www.sutton.com/agent/diana-amoroso-54829</td>\n",
       "    </tr>\n",
       "    <tr>\n",
       "      <th>2</th>\n",
       "      <td>https://www.sutton.com/agent/michael-chiang-55612</td>\n",
       "    </tr>\n",
       "    <tr>\n",
       "      <th>3</th>\n",
       "      <td>https://www.sutton.com/agent/danny-bonko-55206</td>\n",
       "    </tr>\n",
       "    <tr>\n",
       "      <th>4</th>\n",
       "      <td>https://www.sutton.com/agent/jim-hinchcliffe-5...</td>\n",
       "    </tr>\n",
       "    <tr>\n",
       "      <th>5</th>\n",
       "      <td>https://www.sutton.com/agent/karen-blackley-55157</td>\n",
       "    </tr>\n",
       "    <tr>\n",
       "      <th>6</th>\n",
       "      <td>https://www.sutton.com/agent/jim-hendricks-56931</td>\n",
       "    </tr>\n",
       "    <tr>\n",
       "      <th>7</th>\n",
       "      <td>https://www.sutton.com/agent/arne-anderson-54834</td>\n",
       "    </tr>\n",
       "    <tr>\n",
       "      <th>8</th>\n",
       "      <td>https://www.sutton.com/agent/james-chow-55666</td>\n",
       "    </tr>\n",
       "    <tr>\n",
       "      <th>9</th>\n",
       "      <td>https://www.sutton.com/agent/moe-abaee-54741</td>\n",
       "    </tr>\n",
       "    <tr>\n",
       "      <th>21</th>\n",
       "      <td>https://www.sutton.com/agent/albert-chin-55621</td>\n",
       "    </tr>\n",
       "    <tr>\n",
       "      <th>28</th>\n",
       "      <td>https://www.sutton.com/agent/chris-chuang-55680</td>\n",
       "    </tr>\n",
       "    <tr>\n",
       "      <th>29</th>\n",
       "      <td>https://www.sutton.com/agent/don-jerry-57233</td>\n",
       "    </tr>\n",
       "  </tbody>\n",
       "</table>\n",
       "</div>"
      ],
      "text/plain": [
       "                                                links\n",
       "0      https://www.sutton.com/agent/eric-hasiak-56875\n",
       "1    https://www.sutton.com/agent/diana-amoroso-54829\n",
       "2   https://www.sutton.com/agent/michael-chiang-55612\n",
       "3      https://www.sutton.com/agent/danny-bonko-55206\n",
       "4   https://www.sutton.com/agent/jim-hinchcliffe-5...\n",
       "5   https://www.sutton.com/agent/karen-blackley-55157\n",
       "6    https://www.sutton.com/agent/jim-hendricks-56931\n",
       "7    https://www.sutton.com/agent/arne-anderson-54834\n",
       "8       https://www.sutton.com/agent/james-chow-55666\n",
       "9        https://www.sutton.com/agent/moe-abaee-54741\n",
       "21     https://www.sutton.com/agent/albert-chin-55621\n",
       "28    https://www.sutton.com/agent/chris-chuang-55680\n",
       "29       https://www.sutton.com/agent/don-jerry-57233"
      ]
     },
     "execution_count": 25,
     "metadata": {},
     "output_type": "execute_result"
    }
   ],
   "source": []
  },
  {
   "cell_type": "code",
   "execution_count": 27,
   "id": "according-planet",
   "metadata": {},
   "outputs": [
    {
     "data": {
      "text/plain": [
       "'Karen Blackley'"
      ]
     },
     "execution_count": 27,
     "metadata": {},
     "output_type": "execute_result"
    }
   ],
   "source": [
    "driver.find_element_by_tag_name('h1').text"
   ]
  },
  {
   "cell_type": "code",
   "execution_count": 30,
   "id": "rational-lebanon",
   "metadata": {},
   "outputs": [
    {
     "data": {
      "text/plain": [
       "'Sutton Group - Skyway Realty Inc., Brokerage'"
      ]
     },
     "execution_count": 30,
     "metadata": {},
     "output_type": "execute_result"
    }
   ],
   "source": [
    "driver.find_element_by_tag_name('h2').text"
   ]
  },
  {
   "cell_type": "code",
   "execution_count": 41,
   "id": "solid-sunday",
   "metadata": {},
   "outputs": [
    {
     "data": {
      "text/plain": [
       "'http://karenblackley.com/'"
      ]
     },
     "execution_count": 41,
     "metadata": {},
     "output_type": "execute_result"
    }
   ],
   "source": [
    "driver.find_element_by_xpath('//div[@class=\"items-center flex flex-row sm:flex-row lg:flex-row\"]/li/p/a').get_attribute('href')"
   ]
  },
  {
   "cell_type": "code",
   "execution_count": 36,
   "id": "efficient-isaac",
   "metadata": {},
   "outputs": [
    {
     "name": "stdout",
     "output_type": "stream",
     "text": [
      "Business: 905-646-9001\n",
      "Mobile: 9054010633\n",
      "\n"
     ]
    }
   ],
   "source": [
    "for x in driver.find_elements_by_xpath('//p[@class=\"mt-1\"]'):\n",
    "    if 'Mobile' in x.text:\n",
    "        agent_phone = x.text\n",
    "    if 'Business' in x.text:\n",
    "        office_phone = x.text\n",
    "    if 'office' in x.text.lower():\n",
    "        office_phone = x.text\n"
   ]
  },
  {
   "cell_type": "code",
   "execution_count": 42,
   "id": "alpha-decision",
   "metadata": {},
   "outputs": [],
   "source": [
    "agent_links = df.copy()"
   ]
  },
  {
   "cell_type": "code",
   "execution_count": 43,
   "id": "ahead-boxing",
   "metadata": {},
   "outputs": [
    {
     "data": {
      "text/html": [
       "<div>\n",
       "<style scoped>\n",
       "    .dataframe tbody tr th:only-of-type {\n",
       "        vertical-align: middle;\n",
       "    }\n",
       "\n",
       "    .dataframe tbody tr th {\n",
       "        vertical-align: top;\n",
       "    }\n",
       "\n",
       "    .dataframe thead th {\n",
       "        text-align: right;\n",
       "    }\n",
       "</style>\n",
       "<table border=\"1\" class=\"dataframe\">\n",
       "  <thead>\n",
       "    <tr style=\"text-align: right;\">\n",
       "      <th></th>\n",
       "      <th>links</th>\n",
       "    </tr>\n",
       "  </thead>\n",
       "  <tbody>\n",
       "    <tr>\n",
       "      <th>0</th>\n",
       "      <td>https://www.sutton.com/agent/eric-hasiak-56875</td>\n",
       "    </tr>\n",
       "    <tr>\n",
       "      <th>1</th>\n",
       "      <td>https://www.sutton.com/agent/diana-amoroso-54829</td>\n",
       "    </tr>\n",
       "    <tr>\n",
       "      <th>2</th>\n",
       "      <td>https://www.sutton.com/agent/michael-chiang-55612</td>\n",
       "    </tr>\n",
       "    <tr>\n",
       "      <th>3</th>\n",
       "      <td>https://www.sutton.com/agent/danny-bonko-55206</td>\n",
       "    </tr>\n",
       "    <tr>\n",
       "      <th>4</th>\n",
       "      <td>https://www.sutton.com/agent/jim-hinchcliffe-5...</td>\n",
       "    </tr>\n",
       "    <tr>\n",
       "      <th>...</th>\n",
       "      <td>...</td>\n",
       "    </tr>\n",
       "    <tr>\n",
       "      <th>95</th>\n",
       "      <td>https://www.sutton.com/agent/diana-amoroso-54829</td>\n",
       "    </tr>\n",
       "    <tr>\n",
       "      <th>96</th>\n",
       "      <td>https://www.sutton.com/agent/james-chow-55666</td>\n",
       "    </tr>\n",
       "    <tr>\n",
       "      <th>97</th>\n",
       "      <td>https://www.sutton.com/agent/moe-abaee-54741</td>\n",
       "    </tr>\n",
       "    <tr>\n",
       "      <th>98</th>\n",
       "      <td>https://www.sutton.com/agent/arne-anderson-54834</td>\n",
       "    </tr>\n",
       "    <tr>\n",
       "      <th>99</th>\n",
       "      <td>https://www.sutton.com/agent/michael-chiang-55612</td>\n",
       "    </tr>\n",
       "  </tbody>\n",
       "</table>\n",
       "<p>100 rows × 1 columns</p>\n",
       "</div>"
      ],
      "text/plain": [
       "                                                links\n",
       "0      https://www.sutton.com/agent/eric-hasiak-56875\n",
       "1    https://www.sutton.com/agent/diana-amoroso-54829\n",
       "2   https://www.sutton.com/agent/michael-chiang-55612\n",
       "3      https://www.sutton.com/agent/danny-bonko-55206\n",
       "4   https://www.sutton.com/agent/jim-hinchcliffe-5...\n",
       "..                                                ...\n",
       "95   https://www.sutton.com/agent/diana-amoroso-54829\n",
       "96      https://www.sutton.com/agent/james-chow-55666\n",
       "97       https://www.sutton.com/agent/moe-abaee-54741\n",
       "98   https://www.sutton.com/agent/arne-anderson-54834\n",
       "99  https://www.sutton.com/agent/michael-chiang-55612\n",
       "\n",
       "[100 rows x 1 columns]"
      ]
     },
     "execution_count": 43,
     "metadata": {},
     "output_type": "execute_result"
    }
   ],
   "source": [
    "agent_links"
   ]
  },
  {
   "cell_type": "code",
   "execution_count": 1,
   "id": "played-slave",
   "metadata": {},
   "outputs": [],
   "source": [
    "import requests"
   ]
  },
  {
   "cell_type": "code",
   "execution_count": 2,
   "id": "optimum-relay",
   "metadata": {},
   "outputs": [
    {
     "data": {
      "text/plain": [
       "<Response [200]>"
      ]
     },
     "execution_count": 2,
     "metadata": {},
     "output_type": "execute_result"
    }
   ],
   "source": [
    "requests.get('https://www.sutton.com/agent/josie-stern-62190')"
   ]
  },
  {
   "cell_type": "code",
   "execution_count": 48,
   "id": "tough-burner",
   "metadata": {},
   "outputs": [],
   "source": [
    "df = pd.DataFrame([])\n",
    "z = 0\n",
    "for link in agent_links['links']:\n",
    "    driver.get(link)\n",
    "    try:\n",
    "        agent_name = driver.find_element_by_tag_name('h1').text\n",
    "    except:\n",
    "        agent_name = ''\n",
    "    try:\n",
    "        agent_role = driver.find_element_by_tag_name('h3').text\n",
    "    except:\n",
    "        agent_role = ''\n",
    "    try:\n",
    "        agent_dp = driver.find_element_by_xpath('//div[@class=\"flex flex-col lg:flex-row items-center w-full lg:w-3/4\"]/img').get_attribute('src')\n",
    "    except:\n",
    "        agent_dp = ''\n",
    "    try:\n",
    "        office_name = driver.find_element_by_tag_name('h2').text\n",
    "    except:\n",
    "        office_name = ''\n",
    "    try:\n",
    "        office_site = driver.find_element_by_xpath('//h2[@class=\"mb-2 text-gray-600\"]/a').get_attribute('href')\n",
    "    except:\n",
    "        office_site = ''\n",
    "    try:\n",
    "        address = driver.find_element_by_xpath('//div[@class=\"mt-3 lg:mt-0\"]').text.replace('\\n', ' ')\n",
    "    except:\n",
    "        address =''\n",
    "    try:\n",
    "        Zip = address.split(' ')[-1]\n",
    "    except:\n",
    "        Zip = ''\n",
    "    agent_phone = ''\n",
    "    office_phone = ''\n",
    "    \n",
    "    try:\n",
    "        \n",
    "        for x in driver.find_elements_by_xpath('//p[@class=\"mt-1\"]'):\n",
    "            if 'Mobile' in x.text:\n",
    "                agent_phone = x.text\n",
    "            if 'Business' in x.text:\n",
    "                office_phone = x.text\n",
    "            if 'office' in x.text.lower():\n",
    "                office_phone = x.text\n",
    "    except:\n",
    "        pass\n",
    "    \n",
    "    try:\n",
    "        agent_site = driver.find_element_by_xpath('//div[@class=\"items-center flex flex-row sm:flex-row lg:flex-row\"]/li/p/a').get_attribute('href')\n",
    "    \n",
    "    except:\n",
    "        agent_sitet = ''\n",
    "        \n",
    "    df.loc[z,'agent_url'] = link\n",
    "    df.loc[z,'agent_dp'] = agent_dp\n",
    "    df.loc[z,'agent_name'] = agent_name\n",
    "    df.loc[z,'agent_role'] = agent_role\n",
    "    df.loc[z,'agent_phone'] = agent_phone\n",
    "\n",
    "    df.loc[z,'office_name'] = office_name\n",
    "    df.loc[z,'office_site'] = office_site\n",
    "    df.loc[z,'office_address'] = address\n",
    "    df.loc[z,'zip'] = Zip\n",
    "    df.loc[z,'office_phone'] = office_phone\n",
    "    z = z+1"
   ]
  },
  {
   "cell_type": "code",
   "execution_count": 50,
   "id": "remarkable-franklin",
   "metadata": {},
   "outputs": [],
   "source": [
    "df.to_csv('sutton_group.csv',index=False)"
   ]
  },
  {
   "cell_type": "code",
   "execution_count": null,
   "id": "pleased-harrison",
   "metadata": {},
   "outputs": [],
   "source": []
  }
 ],
 "metadata": {
  "kernelspec": {
   "display_name": "Python 3",
   "language": "python",
   "name": "python3"
  },
  "language_info": {
   "codemirror_mode": {
    "name": "ipython",
    "version": 3
   },
   "file_extension": ".py",
   "mimetype": "text/x-python",
   "name": "python",
   "nbconvert_exporter": "python",
   "pygments_lexer": "ipython3",
   "version": "3.7.9"
  }
 },
 "nbformat": 4,
 "nbformat_minor": 5
}
