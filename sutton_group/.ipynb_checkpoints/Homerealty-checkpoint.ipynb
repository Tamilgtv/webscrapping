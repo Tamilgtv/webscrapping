{
 "cells": [
  {
   "cell_type": "code",
   "execution_count": 1,
   "id": "satisfied-turtle",
   "metadata": {},
   "outputs": [],
   "source": [
    "from selenium import webdriver\n",
    "import pandas as pd\n",
    "import time"
   ]
  },
  {
   "cell_type": "code",
   "execution_count": 6,
   "id": "unavailable-monitor",
   "metadata": {},
   "outputs": [],
   "source": [
    "from bs4 import BeautifulSoup"
   ]
  },
  {
   "cell_type": "code",
   "execution_count": 2,
   "id": "anticipated-rocket",
   "metadata": {},
   "outputs": [],
   "source": [
    "import requests"
   ]
  },
  {
   "cell_type": "code",
   "execution_count": 4,
   "id": "satellite-northern",
   "metadata": {},
   "outputs": [],
   "source": [
    "driver = webdriver.Chrome(executable_path='D:/Tamil/chrome driver/chromedriver.exe')"
   ]
  },
  {
   "cell_type": "code",
   "execution_count": 5,
   "id": "general-plymouth",
   "metadata": {},
   "outputs": [],
   "source": [
    "driver.get('https://www.homelife.ca/office_agents/8008')"
   ]
  },
  {
   "cell_type": "code",
   "execution_count": 7,
   "id": "welsh-trouble",
   "metadata": {},
   "outputs": [],
   "source": [
    "soup  = BeautifulSoup(driver.page_source, 'html.parser')"
   ]
  },
  {
   "cell_type": "code",
   "execution_count": 11,
   "id": "cardiovascular-turkey",
   "metadata": {},
   "outputs": [
    {
     "data": {
      "text/plain": [
       "'Barbara T.   Poplawski'"
      ]
     },
     "execution_count": 11,
     "metadata": {},
     "output_type": "execute_result"
    }
   ],
   "source": [
    "soup.find('td',{'class':'agent-short-cell-right'}).find('div').span.b.text.strip()\n"
   ]
  },
  {
   "cell_type": "code",
   "execution_count": 14,
   "id": "fourth-array",
   "metadata": {},
   "outputs": [
    {
     "data": {
      "text/plain": [
       "'Sales Representative'"
      ]
     },
     "execution_count": 14,
     "metadata": {},
     "output_type": "execute_result"
    }
   ],
   "source": [
    "soup.find('td',{'class':'agent-short-cell-right'}).find('div').find_all('span')[1].text.replace(',','').strip()"
   ]
  },
  {
   "cell_type": "code",
   "execution_count": 18,
   "id": "described-executive",
   "metadata": {},
   "outputs": [
    {
     "data": {
      "text/plain": [
       "'HomeLife Regional Realty Ltd., Brokerage*'"
      ]
     },
     "execution_count": 18,
     "metadata": {},
     "output_type": "execute_result"
    }
   ],
   "source": [
    "soup.find('td',{'class':'agent-short-cell-right'}).find_all('div')[1].text"
   ]
  },
  {
   "cell_type": "code",
   "execution_count": 19,
   "id": "residential-department",
   "metadata": {},
   "outputs": [
    {
     "data": {
      "text/plain": [
       "'Office: 416-535-3107 '"
      ]
     },
     "execution_count": 19,
     "metadata": {},
     "output_type": "execute_result"
    }
   ],
   "source": [
    "soup.find('td',{'class':'agent-short-cell-right'}).find_all('div')[2].text"
   ]
  },
  {
   "cell_type": "code",
   "execution_count": 20,
   "id": "representative-statement",
   "metadata": {},
   "outputs": [
    {
     "data": {
      "text/plain": [
       "'Fax: 416-535-5372 '"
      ]
     },
     "execution_count": 20,
     "metadata": {},
     "output_type": "execute_result"
    }
   ],
   "source": [
    "soup.find('td',{'class':'agent-short-cell-right'}).find_all('div')[3].text"
   ]
  },
  {
   "cell_type": "code",
   "execution_count": 23,
   "id": "german-better",
   "metadata": {
    "scrolled": true
   },
   "outputs": [
    {
     "data": {
      "text/plain": [
       "'https://www.homelife.ca/node/9469'"
      ]
     },
     "execution_count": 23,
     "metadata": {},
     "output_type": "execute_result"
    }
   ],
   "source": [
    "'https://www.homelife.ca'+soup.find('td',{'class':'agent-short-cell-right'}).find_all('div')[5].find('span').find('a')['href']"
   ]
  },
  {
   "cell_type": "code",
   "execution_count": 30,
   "id": "adjustable-toronto",
   "metadata": {},
   "outputs": [
    {
     "name": "stdout",
     "output_type": "stream",
     "text": [
      "Sales Representative\n",
      "Sales Representative\n",
      "Sales Representative\n",
      "Sales Representative\n",
      "Broker\n",
      "Sales Representative\n",
      "Sales Representative\n",
      "Sales Representative\n",
      "Sales Representative\n",
      "Sales Representative\n",
      "Sales Representative\n",
      "Broker\n",
      "Broker of Record\n",
      "Broker\n"
     ]
    }
   ],
   "source": [
    "for td in soup.find_all('td',{'class':'agent-short-cell-right'}):\n",
    "    agent_name = td.find('div').span.b.text.strip()\n",
    "    agent_role = td.find('div').find_all('span')[1].text.replace(',','').strip()\n",
    "    office_name = td.find_all('div')[1].text\n",
    "    office_phone = td.find_all('div')[2].text"
   ]
  },
  {
   "cell_type": "code",
   "execution_count": null,
   "id": "devoted-prefix",
   "metadata": {},
   "outputs": [],
   "source": [
    "df = pd.DataFrame([])"
   ]
  }
 ],
 "metadata": {
  "kernelspec": {
   "display_name": "Python 3",
   "language": "python",
   "name": "python3"
  },
  "language_info": {
   "codemirror_mode": {
    "name": "ipython",
    "version": 3
   },
   "file_extension": ".py",
   "mimetype": "text/x-python",
   "name": "python",
   "nbconvert_exporter": "python",
   "pygments_lexer": "ipython3",
   "version": "3.7.9"
  }
 },
 "nbformat": 4,
 "nbformat_minor": 5
}
