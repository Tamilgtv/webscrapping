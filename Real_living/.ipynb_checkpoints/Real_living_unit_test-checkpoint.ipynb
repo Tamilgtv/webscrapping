{
 "cells": [
  {
   "cell_type": "code",
   "execution_count": 5,
   "id": "armed-concentration",
   "metadata": {},
   "outputs": [],
   "source": [
    "import pandas as pd\n",
    "from selenium import webdriver\n",
    "from selenium.webdriver.common.by import By\n",
    "from selenium.webdriver.support.ui import Select\n",
    "from selenium.webdriver.chrome.options import Options\n",
    "from datetime import datetime\n",
    "from bs4 import BeautifulSoup"
   ]
  },
  {
   "cell_type": "code",
   "execution_count": 26,
   "id": "polished-casino",
   "metadata": {},
   "outputs": [],
   "source": [
    "import requests"
   ]
  },
  {
   "cell_type": "code",
   "execution_count": 27,
   "id": "bound-bracket",
   "metadata": {},
   "outputs": [],
   "source": [
    "page = requests.get('https://www.realliving.com/agentsearch/results.aspx')"
   ]
  },
  {
   "cell_type": "code",
   "execution_count": 11,
   "id": "systematic-leader",
   "metadata": {},
   "outputs": [],
   "source": [
    "page = requests.get('https://www.realliving.com/agentsearch/results.aspx?SearchType=agent&FirstName=&LastName=&OfficeName=&Address=&City=&State=&Country=-32768&Zip=&Languages=&Titles=&Specialties=&Accreditations=&Areas=&rpp=50&page=31&SortOrder=')"
   ]
  },
  {
   "cell_type": "code",
   "execution_count": 2,
   "id": "natural-disco",
   "metadata": {},
   "outputs": [],
   "source": [
    "driver = webdriver.Chrome(executable_path='D:/Tamil/chrome driver/chromedriver.exe')"
   ]
  },
  {
   "cell_type": "code",
   "execution_count": 4,
   "id": "virtual-excuse",
   "metadata": {},
   "outputs": [],
   "source": [
    "driver.get('https://www.realliving.com/agentsearch/results.aspx?')"
   ]
  },
  {
   "cell_type": "code",
   "execution_count": 8,
   "id": "numerous-entrance",
   "metadata": {},
   "outputs": [
    {
     "data": {
      "text/plain": [
       "50"
      ]
     },
     "execution_count": 8,
     "metadata": {},
     "output_type": "execute_result"
    }
   ],
   "source": [
    "driver.find_elements_by_xpath('//*[@class=\"ao_results_icon_text A detail-page\"]')"
   ]
  },
  {
   "cell_type": "code",
   "execution_count": 89,
   "id": "played-buddy",
   "metadata": {},
   "outputs": [],
   "source": [
    "soup = BeautifulSoup(driver.page_source, 'html.parser')"
   ]
  },
  {
   "cell_type": "code",
   "execution_count": 28,
   "id": "wicked-movie",
   "metadata": {},
   "outputs": [],
   "source": [
    "soup = BeautifulSoup(page.content, 'html.parser')"
   ]
  },
  {
   "cell_type": "code",
   "execution_count": 29,
   "id": "incorporated-survivor",
   "metadata": {},
   "outputs": [],
   "source": [
    "agent_details = soup.find_all('div',{'class':'ao-info-container'})"
   ]
  },
  {
   "cell_type": "code",
   "execution_count": 19,
   "id": "hybrid-webmaster",
   "metadata": {},
   "outputs": [],
   "source": [
    "df = pd.DataFrame([])\n",
    "z = 0"
   ]
  },
  {
   "cell_type": "code",
   "execution_count": 50,
   "id": "breeding-glenn",
   "metadata": {},
   "outputs": [],
   "source": [
    "df = pd.DataFrame([])\n",
    "z = 0\n",
    "for pages in range(1, 3):\n",
    "    if pages == 1:\n",
    "        page = requests.get('https://www.realliving.com/agentsearch/results.aspx')\n",
    "    else:\n",
    "        page = requests.get('https://www.realliving.com/agentsearch/results.aspx?SearchType=agent&FirstName=&LastName=&OfficeName=&Address=&City=&State=&Country=-32768&Zip=&Languages=&Titles=&Specialties=&Accreditations=&Areas=&rpp=50&page='+str(pages)+'&SortOrder=')\n",
    "    soup = BeautifulSoup(page.content, 'html.parser')\n",
    "    agent_details = soup.find_all('div',{'class':'rui-row'})\n",
    "    \n",
    "    for agent_detail in agent_details:\n",
    "        try:\n",
    "            agent_link = agent_detail.find('a',{'class':'ao_results_icon_text A detail-page'})['href']\n",
    "        except:\n",
    "            agent_link = ''\n",
    "        try:\n",
    "\n",
    "            agent_dp = agent_detail.find('div',{'class':'ao-photo-container'}).find('img')['src']\n",
    "        except:\n",
    "            agent_dp = ''\n",
    "        try:\n",
    "\n",
    "            agent_name = agent_detail.find('a',{'class':'ao_results_icon_text A detail-page'}).text\n",
    "        except:\n",
    "            agent_name = ''\n",
    "        try:\n",
    "            other_phone = ' | '.join([x.text for x in agent_detail.find_all('div', {'class':'ao-phone'})])\n",
    "        except:\n",
    "            other_phone = ''\n",
    "        try:\n",
    "            agent_site  = agent_detail.find('div',{'class':'ao-info-r3 rui-inner-row'}).find('span',{'class':'view-website-container'}).find('a')['href']\n",
    "        except:\n",
    "            agent_site = ''\n",
    "        try:\n",
    "            office_name =  agent_detail.find('div',{'class':'ao-office'}).text.replace('\\n','')\n",
    "        except:\n",
    "            office_name = ''\n",
    "        try:\n",
    "\n",
    "            address = agent_detail.find('div',{'class':'ao-address'}).text.replace('\\n','')\n",
    "        except:\n",
    "            address = ''\n",
    "        try:\n",
    "            office_link =  agent_detail.find('div',{'class':'ao-office'}).find('a')['href']\n",
    "        except:\n",
    "            office_link = ''\n",
    "        try:\n",
    "            Agent_email = ''\n",
    "            for check in  agent_detail.find('span',{'class':'ao-view-contact-container'}).find('a')['href'].split('&'):\n",
    "                if 'Email' in check:\n",
    "                    #print(check)\n",
    "                    Agent_email = check.replace('AgentEmailAddress=','')\n",
    "        except:\n",
    "            Agent_email = ''\n",
    "            \n",
    "        try:\n",
    "            agent_facebook = ''.join([x['href'] for x in agent_detail.find('div',{'class':'ao-social'}).find_all('a') if 'face' in x['href']] )\n",
    "        except:\n",
    "            agent_facebook = ''\n",
    "            \n",
    "        try:\n",
    "            agent_instagram = ''.join([x['href'] for x in agent_detail.find('div',{'class':'ao-social'}).find_all('a') if 'insta' in x['href']] )\n",
    "            \n",
    "        except:\n",
    "            agent_instagram = ''\n",
    "            \n",
    "        try:\n",
    "            agent_twitter = ''.join([x['href'] for x in agent_detail.find('div',{'class':'ao-social'}).find_all('a') if 'twitter' in x['href']] )\n",
    "        except:\n",
    "            agent_twitter = ''\n",
    "            \n",
    "        try:\n",
    "            agent_linkedin =    ''.join([x['href'] for x in agent_detail.find('div',{'class':'ao-social'}).find_all('a') if 'linkedin' in x['href']] )\n",
    "        except:\n",
    "            \n",
    "            agent_linkedin = ''\n",
    "            \n",
    "        try:\n",
    "            agent_phone = agent_detail.find('div',{'id':'ao-cell'}).text\n",
    "            \n",
    "        except:\n",
    "            agent_phone = ''\n",
    "            \n",
    "        try:\n",
    "            office_phone = agent_detail.find('div',{'id':'ao-phone'}).text\n",
    "        except:\n",
    "            office_phone = ''\n",
    "        \n",
    "        try:\n",
    "            agent_dp = agent_detail.find('img',{'class':'ao-search-agent-photo'})['src']\n",
    "            \n",
    "        except:\n",
    "            agent_dp = ''\n",
    "            \n",
    "#         df.loc[z,'Agent_url'] = agent_link\n",
    "#         df.loc[z,'Agent_dp'] = agent_dp\n",
    "#         df.loc[z,'Agent_name'] = agent_name\n",
    "#         df.loc[z,'Agent_email'] = Agent_email\n",
    "#         df.loc[z,'Agent_site'] = agent_site\n",
    "#         df.loc[z,'office_name'] = office_name\n",
    "#         df.loc[z,'office_site'] = office_link\n",
    "#         df.loc[z,'office_address'] = address\n",
    "#         df.loc[z,'Other_phone'] = other_phone\n",
    "#         z = z+1\n",
    "        \n",
    "        try:\n",
    "            Zip = address.split(' ')[-1].strip()\n",
    "        except:\n",
    "            Zip = ''\n",
    "            \n",
    "        try:\n",
    "            state = address.split(',')[-1].replace(address.split(' ')[-1],'').strip()\n",
    "        except:\n",
    "            state = ''\n",
    "        \n",
    "        df.loc[z,'unique_id'] = 'Real_living_'+str(z+1)\n",
    "        df.loc[z, 'agent_url'] = agent_link\n",
    "        df.loc[z, 'agent_dp'] = agent_dp\n",
    "        df.loc[z, 'agent_name'] = agent_name\n",
    "        df.loc[z, 'agent_phone'] = agent_phone.replace('Mobile:','').replace('+1','').strip()\n",
    "        df.loc[z, 'agent_email'] = Agent_email\n",
    "        df.loc[z, 'agent_role'] = 'Agent'\n",
    "        df.loc[z, 'agent_license'] = ''\n",
    "        df.loc[z, 'agent_areaserved'] = ''\n",
    "        df.loc[z, 'agent_designations'] = ''\n",
    "        df.loc[z, 'agent_facebook'] = agent_facebook\n",
    "        df.loc[z, 'agent_instagram'] = agent_instagram\n",
    "        df.loc[z, 'agent_twitter'] = agent_twitter\n",
    "        df.loc[z, 'agent_linkedin'] = agent_linkedin\n",
    "        df.loc[z, 'agent_pinterest'] = ''\n",
    "        df.loc[z, 'agent_youtube'] = ''\n",
    "        df.loc[z, 'agent_site'] = agent_site\n",
    "        df.loc[z, 'agent_special_tag'] = ''\n",
    "        df.loc[z, 'agent_rating'] = ''\n",
    "        df.loc[z, 'office_address'] = address\n",
    "        df.loc[z, 'office_fax'] = ''\n",
    "        df.loc[z, 'office_branch'] = ''\n",
    "        df.loc[z, 'office_name'] = office_name\n",
    "        df.loc[z, 'office_phone'] = office_phone.replace('+1','')\n",
    "        df.loc[z, 'office_site'] = office_link\n",
    "        df.loc[z, 'office_zip'] = Zip\n",
    "        df.loc[z, 'office_state'] = state\n",
    "        df.loc[z,'other_phone'] = other_phone\n",
    "        df.loc[z,'company_facebook'] = ''\n",
    "        df.loc[z,'company_linkedin'] = ''\n",
    "        df.loc[z,'company_name'] = 'Real Living'\n",
    "        df.loc[z,'company_site'] = 'https://www.realliving.com'\n",
    "        df.loc[z,'company_twitter'] = ''\n",
    "        df.loc[z,'date_of_data_extraction'] = datetime.now()\n",
    "        df.loc[z,'data_extracted_by'] = 'Tamil'\n",
    "        df.loc[z,'dataextraction_uuid'] = 'Tamil-'+datetime.now().strftime('%m-%d-%Y')\n",
    "\n",
    "        z = z+1        \n",
    "\n",
    "\n",
    "\n"
   ]
  },
  {
   "cell_type": "code",
   "execution_count": 51,
   "id": "elegant-accessory",
   "metadata": {},
   "outputs": [
    {
     "data": {
      "text/html": [
       "<div>\n",
       "<style scoped>\n",
       "    .dataframe tbody tr th:only-of-type {\n",
       "        vertical-align: middle;\n",
       "    }\n",
       "\n",
       "    .dataframe tbody tr th {\n",
       "        vertical-align: top;\n",
       "    }\n",
       "\n",
       "    .dataframe thead th {\n",
       "        text-align: right;\n",
       "    }\n",
       "</style>\n",
       "<table border=\"1\" class=\"dataframe\">\n",
       "  <thead>\n",
       "    <tr style=\"text-align: right;\">\n",
       "      <th></th>\n",
       "      <th>unique_id</th>\n",
       "      <th>agent_url</th>\n",
       "      <th>agent_dp</th>\n",
       "      <th>agent_name</th>\n",
       "      <th>agent_phone</th>\n",
       "      <th>agent_email</th>\n",
       "      <th>agent_role</th>\n",
       "      <th>agent_license</th>\n",
       "      <th>agent_areaserved</th>\n",
       "      <th>agent_designations</th>\n",
       "      <th>...</th>\n",
       "      <th>office_state</th>\n",
       "      <th>other_phone</th>\n",
       "      <th>company_facebook</th>\n",
       "      <th>company_linkedin</th>\n",
       "      <th>company_name</th>\n",
       "      <th>company_site</th>\n",
       "      <th>company_twitter</th>\n",
       "      <th>date_of_data_extraction</th>\n",
       "      <th>data_extracted_by</th>\n",
       "      <th>dataextraction_uuid</th>\n",
       "    </tr>\n",
       "  </thead>\n",
       "  <tbody>\n",
       "    <tr>\n",
       "      <th>0</th>\n",
       "      <td>Real_living_1</td>\n",
       "      <td>https://www.realliving.com/carol.abdo</td>\n",
       "      <td>https://reallivingimages.fnistools.com/images/...</td>\n",
       "      <td>Carol Abdo</td>\n",
       "      <td>(973) 476-5982</td>\n",
       "      <td>carol@jordanbaris.com</td>\n",
       "      <td>Agent</td>\n",
       "      <td></td>\n",
       "      <td></td>\n",
       "      <td></td>\n",
       "      <td>...</td>\n",
       "      <td>New Jersey</td>\n",
       "      <td>(973) 476-5982 |(973) 476-5982</td>\n",
       "      <td></td>\n",
       "      <td></td>\n",
       "      <td>Real Living</td>\n",
       "      <td>https://www.realliving.com</td>\n",
       "      <td></td>\n",
       "      <td>2022-02-08 18:17:12.726477</td>\n",
       "      <td>Tamil</td>\n",
       "      <td>Tamil-02-08-2022</td>\n",
       "    </tr>\n",
       "    <tr>\n",
       "      <th>1</th>\n",
       "      <td>Real_living_2</td>\n",
       "      <td>https://www.realliving.com/ruth.aborjaily</td>\n",
       "      <td></td>\n",
       "      <td>Ruth Aborjaily</td>\n",
       "      <td>(413) 244-4156</td>\n",
       "      <td>aborbann@yahoo.com</td>\n",
       "      <td>Agent</td>\n",
       "      <td></td>\n",
       "      <td></td>\n",
       "      <td></td>\n",
       "      <td>...</td>\n",
       "      <td>Massachusetts</td>\n",
       "      <td>(413) 244-4156 |(413) 244-4156</td>\n",
       "      <td></td>\n",
       "      <td></td>\n",
       "      <td>Real Living</td>\n",
       "      <td>https://www.realliving.com</td>\n",
       "      <td></td>\n",
       "      <td>2022-02-08 18:17:12.726477</td>\n",
       "      <td>Tamil</td>\n",
       "      <td>Tamil-02-08-2022</td>\n",
       "    </tr>\n",
       "    <tr>\n",
       "      <th>2</th>\n",
       "      <td>Real_living_3</td>\n",
       "      <td>https://www.realliving.com/joseph.abramoff</td>\n",
       "      <td>https://reallivingimages.fnistools.com/images/...</td>\n",
       "      <td>Joseph Abramoff</td>\n",
       "      <td></td>\n",
       "      <td>joseph.abramoff@realliving.com</td>\n",
       "      <td>Agent</td>\n",
       "      <td></td>\n",
       "      <td></td>\n",
       "      <td></td>\n",
       "      <td>...</td>\n",
       "      <td>Massachusetts</td>\n",
       "      <td>(508) 667-8254 |</td>\n",
       "      <td></td>\n",
       "      <td></td>\n",
       "      <td>Real Living</td>\n",
       "      <td>https://www.realliving.com</td>\n",
       "      <td></td>\n",
       "      <td>2022-02-08 18:17:12.742101</td>\n",
       "      <td>Tamil</td>\n",
       "      <td>Tamil-02-08-2022</td>\n",
       "    </tr>\n",
       "    <tr>\n",
       "      <th>3</th>\n",
       "      <td>Real_living_4</td>\n",
       "      <td>https://www.realliving.com/lisa.abrams</td>\n",
       "      <td>https://reallivingimages.fnistools.com/images/...</td>\n",
       "      <td>Lisa Abrams</td>\n",
       "      <td>(301) 437-6742</td>\n",
       "      <td>lisa@homesbytheabramsgroup.com</td>\n",
       "      <td>Agent</td>\n",
       "      <td></td>\n",
       "      <td></td>\n",
       "      <td></td>\n",
       "      <td>...</td>\n",
       "      <td>Maryland</td>\n",
       "      <td>(301) 652-0643 |(301) 437-6742</td>\n",
       "      <td></td>\n",
       "      <td></td>\n",
       "      <td>Real Living</td>\n",
       "      <td>https://www.realliving.com</td>\n",
       "      <td></td>\n",
       "      <td>2022-02-08 18:17:12.742101</td>\n",
       "      <td>Tamil</td>\n",
       "      <td>Tamil-02-08-2022</td>\n",
       "    </tr>\n",
       "    <tr>\n",
       "      <th>4</th>\n",
       "      <td>Real_living_5</td>\n",
       "      <td>https://www.realliving.com/kaci.ackley</td>\n",
       "      <td>https://reallivingimages.fnistools.com/images/...</td>\n",
       "      <td>Kaci Ackley</td>\n",
       "      <td>(360) 606-7913</td>\n",
       "      <td>kaci_ackley@yahoo.com</td>\n",
       "      <td>Agent</td>\n",
       "      <td></td>\n",
       "      <td></td>\n",
       "      <td></td>\n",
       "      <td>...</td>\n",
       "      <td>Washington</td>\n",
       "      <td>(360) 606-7913 |(360) 606-7913</td>\n",
       "      <td></td>\n",
       "      <td></td>\n",
       "      <td>Real Living</td>\n",
       "      <td>https://www.realliving.com</td>\n",
       "      <td></td>\n",
       "      <td>2022-02-08 18:17:12.757722</td>\n",
       "      <td>Tamil</td>\n",
       "      <td>Tamil-02-08-2022</td>\n",
       "    </tr>\n",
       "    <tr>\n",
       "      <th>...</th>\n",
       "      <td>...</td>\n",
       "      <td>...</td>\n",
       "      <td>...</td>\n",
       "      <td>...</td>\n",
       "      <td>...</td>\n",
       "      <td>...</td>\n",
       "      <td>...</td>\n",
       "      <td>...</td>\n",
       "      <td>...</td>\n",
       "      <td>...</td>\n",
       "      <td>...</td>\n",
       "      <td>...</td>\n",
       "      <td>...</td>\n",
       "      <td>...</td>\n",
       "      <td>...</td>\n",
       "      <td>...</td>\n",
       "      <td>...</td>\n",
       "      <td>...</td>\n",
       "      <td>...</td>\n",
       "      <td>...</td>\n",
       "      <td>...</td>\n",
       "    </tr>\n",
       "    <tr>\n",
       "      <th>95</th>\n",
       "      <td>Real_living_96</td>\n",
       "      <td>https://www.realliving.com/joseph.beach</td>\n",
       "      <td></td>\n",
       "      <td>Joseph Beach</td>\n",
       "      <td></td>\n",
       "      <td>joseph@thecatlettteam.net</td>\n",
       "      <td>Agent</td>\n",
       "      <td></td>\n",
       "      <td></td>\n",
       "      <td></td>\n",
       "      <td>...</td>\n",
       "      <td>Maryland</td>\n",
       "      <td>(202) 893-1566 |</td>\n",
       "      <td></td>\n",
       "      <td></td>\n",
       "      <td>Real Living</td>\n",
       "      <td>https://www.realliving.com</td>\n",
       "      <td></td>\n",
       "      <td>2022-02-08 18:17:15.967005</td>\n",
       "      <td>Tamil</td>\n",
       "      <td>Tamil-02-08-2022</td>\n",
       "    </tr>\n",
       "    <tr>\n",
       "      <th>96</th>\n",
       "      <td>Real_living_97</td>\n",
       "      <td>https://www.realliving.com/johna.beall</td>\n",
       "      <td>https://reallivingimages.fnistools.com/images/...</td>\n",
       "      <td>Johna Beall</td>\n",
       "      <td>(206) 778-9599</td>\n",
       "      <td>johna@rlnorthwest.com</td>\n",
       "      <td>Agent</td>\n",
       "      <td></td>\n",
       "      <td></td>\n",
       "      <td></td>\n",
       "      <td>...</td>\n",
       "      <td>Washington</td>\n",
       "      <td>(206) 778-9599 |(206) 778-9599</td>\n",
       "      <td></td>\n",
       "      <td></td>\n",
       "      <td>Real Living</td>\n",
       "      <td>https://www.realliving.com</td>\n",
       "      <td></td>\n",
       "      <td>2022-02-08 18:17:15.975064</td>\n",
       "      <td>Tamil</td>\n",
       "      <td>Tamil-02-08-2022</td>\n",
       "    </tr>\n",
       "    <tr>\n",
       "      <th>97</th>\n",
       "      <td>Real_living_98</td>\n",
       "      <td>https://www.realliving.com/josh.beall</td>\n",
       "      <td></td>\n",
       "      <td>Josh Beall</td>\n",
       "      <td></td>\n",
       "      <td>josh@joshbeall.com</td>\n",
       "      <td>Agent</td>\n",
       "      <td></td>\n",
       "      <td></td>\n",
       "      <td></td>\n",
       "      <td>...</td>\n",
       "      <td>Maryland</td>\n",
       "      <td>(703) 975-2046 |</td>\n",
       "      <td></td>\n",
       "      <td></td>\n",
       "      <td>Real Living</td>\n",
       "      <td>https://www.realliving.com</td>\n",
       "      <td></td>\n",
       "      <td>2022-02-08 18:17:15.983430</td>\n",
       "      <td>Tamil</td>\n",
       "      <td>Tamil-02-08-2022</td>\n",
       "    </tr>\n",
       "    <tr>\n",
       "      <th>98</th>\n",
       "      <td>Real_living_99</td>\n",
       "      <td>https://www.realliving.com/carley-beard</td>\n",
       "      <td>https://reallivingimages.fnistools.com/images/...</td>\n",
       "      <td>Carley Beard</td>\n",
       "      <td>(815) 370-4111</td>\n",
       "      <td>carley.beard@yahoo.com</td>\n",
       "      <td>Agent</td>\n",
       "      <td></td>\n",
       "      <td></td>\n",
       "      <td></td>\n",
       "      <td>...</td>\n",
       "      <td>Illinois</td>\n",
       "      <td>(815) 370-4111 |(815) 370-4111</td>\n",
       "      <td></td>\n",
       "      <td></td>\n",
       "      <td>Real Living</td>\n",
       "      <td>https://www.realliving.com</td>\n",
       "      <td></td>\n",
       "      <td>2022-02-08 18:17:15.991512</td>\n",
       "      <td>Tamil</td>\n",
       "      <td>Tamil-02-08-2022</td>\n",
       "    </tr>\n",
       "    <tr>\n",
       "      <th>99</th>\n",
       "      <td>Real_living_100</td>\n",
       "      <td>https://www.realliving.com/mark.beardsley</td>\n",
       "      <td></td>\n",
       "      <td>Mark Beardsley</td>\n",
       "      <td></td>\n",
       "      <td>markbeardsleyabr@gmail.com</td>\n",
       "      <td>Agent</td>\n",
       "      <td></td>\n",
       "      <td></td>\n",
       "      <td></td>\n",
       "      <td>...</td>\n",
       "      <td>Virginia</td>\n",
       "      <td>(703) 629-2560 |</td>\n",
       "      <td></td>\n",
       "      <td></td>\n",
       "      <td>Real Living</td>\n",
       "      <td>https://www.realliving.com</td>\n",
       "      <td></td>\n",
       "      <td>2022-02-08 18:17:15.999506</td>\n",
       "      <td>Tamil</td>\n",
       "      <td>Tamil-02-08-2022</td>\n",
       "    </tr>\n",
       "  </tbody>\n",
       "</table>\n",
       "<p>100 rows × 36 columns</p>\n",
       "</div>"
      ],
      "text/plain": [
       "          unique_id                                   agent_url  \\\n",
       "0     Real_living_1       https://www.realliving.com/carol.abdo   \n",
       "1     Real_living_2   https://www.realliving.com/ruth.aborjaily   \n",
       "2     Real_living_3  https://www.realliving.com/joseph.abramoff   \n",
       "3     Real_living_4      https://www.realliving.com/lisa.abrams   \n",
       "4     Real_living_5      https://www.realliving.com/kaci.ackley   \n",
       "..              ...                                         ...   \n",
       "95   Real_living_96     https://www.realliving.com/joseph.beach   \n",
       "96   Real_living_97      https://www.realliving.com/johna.beall   \n",
       "97   Real_living_98       https://www.realliving.com/josh.beall   \n",
       "98   Real_living_99     https://www.realliving.com/carley-beard   \n",
       "99  Real_living_100   https://www.realliving.com/mark.beardsley   \n",
       "\n",
       "                                             agent_dp       agent_name  \\\n",
       "0   https://reallivingimages.fnistools.com/images/...       Carol Abdo   \n",
       "1                                                       Ruth Aborjaily   \n",
       "2   https://reallivingimages.fnistools.com/images/...  Joseph Abramoff   \n",
       "3   https://reallivingimages.fnistools.com/images/...      Lisa Abrams   \n",
       "4   https://reallivingimages.fnistools.com/images/...      Kaci Ackley   \n",
       "..                                                ...              ...   \n",
       "95                                                        Joseph Beach   \n",
       "96  https://reallivingimages.fnistools.com/images/...      Johna Beall   \n",
       "97                                                          Josh Beall   \n",
       "98  https://reallivingimages.fnistools.com/images/...     Carley Beard   \n",
       "99                                                      Mark Beardsley   \n",
       "\n",
       "       agent_phone                     agent_email agent_role agent_license  \\\n",
       "0   (973) 476-5982           carol@jordanbaris.com      Agent                 \n",
       "1   (413) 244-4156              aborbann@yahoo.com      Agent                 \n",
       "2                   joseph.abramoff@realliving.com      Agent                 \n",
       "3   (301) 437-6742  lisa@homesbytheabramsgroup.com      Agent                 \n",
       "4   (360) 606-7913           kaci_ackley@yahoo.com      Agent                 \n",
       "..             ...                             ...        ...           ...   \n",
       "95                       joseph@thecatlettteam.net      Agent                 \n",
       "96  (206) 778-9599           johna@rlnorthwest.com      Agent                 \n",
       "97                              josh@joshbeall.com      Agent                 \n",
       "98  (815) 370-4111          carley.beard@yahoo.com      Agent                 \n",
       "99                      markbeardsleyabr@gmail.com      Agent                 \n",
       "\n",
       "   agent_areaserved agent_designations  ...   office_state  \\\n",
       "0                                       ...     New Jersey   \n",
       "1                                       ...  Massachusetts   \n",
       "2                                       ...  Massachusetts   \n",
       "3                                       ...       Maryland   \n",
       "4                                       ...     Washington   \n",
       "..              ...                ...  ...            ...   \n",
       "95                                      ...       Maryland   \n",
       "96                                      ...     Washington   \n",
       "97                                      ...       Maryland   \n",
       "98                                      ...       Illinois   \n",
       "99                                      ...       Virginia   \n",
       "\n",
       "                       other_phone company_facebook company_linkedin  \\\n",
       "0   (973) 476-5982 |(973) 476-5982                                     \n",
       "1   (413) 244-4156 |(413) 244-4156                                     \n",
       "2                 (508) 667-8254 |                                     \n",
       "3   (301) 652-0643 |(301) 437-6742                                     \n",
       "4   (360) 606-7913 |(360) 606-7913                                     \n",
       "..                             ...              ...              ...   \n",
       "95                (202) 893-1566 |                                     \n",
       "96  (206) 778-9599 |(206) 778-9599                                     \n",
       "97                (703) 975-2046 |                                     \n",
       "98  (815) 370-4111 |(815) 370-4111                                     \n",
       "99                (703) 629-2560 |                                     \n",
       "\n",
       "   company_name                company_site company_twitter  \\\n",
       "0   Real Living  https://www.realliving.com                   \n",
       "1   Real Living  https://www.realliving.com                   \n",
       "2   Real Living  https://www.realliving.com                   \n",
       "3   Real Living  https://www.realliving.com                   \n",
       "4   Real Living  https://www.realliving.com                   \n",
       "..          ...                         ...             ...   \n",
       "95  Real Living  https://www.realliving.com                   \n",
       "96  Real Living  https://www.realliving.com                   \n",
       "97  Real Living  https://www.realliving.com                   \n",
       "98  Real Living  https://www.realliving.com                   \n",
       "99  Real Living  https://www.realliving.com                   \n",
       "\n",
       "      date_of_data_extraction data_extracted_by dataextraction_uuid  \n",
       "0  2022-02-08 18:17:12.726477             Tamil    Tamil-02-08-2022  \n",
       "1  2022-02-08 18:17:12.726477             Tamil    Tamil-02-08-2022  \n",
       "2  2022-02-08 18:17:12.742101             Tamil    Tamil-02-08-2022  \n",
       "3  2022-02-08 18:17:12.742101             Tamil    Tamil-02-08-2022  \n",
       "4  2022-02-08 18:17:12.757722             Tamil    Tamil-02-08-2022  \n",
       "..                        ...               ...                 ...  \n",
       "95 2022-02-08 18:17:15.967005             Tamil    Tamil-02-08-2022  \n",
       "96 2022-02-08 18:17:15.975064             Tamil    Tamil-02-08-2022  \n",
       "97 2022-02-08 18:17:15.983430             Tamil    Tamil-02-08-2022  \n",
       "98 2022-02-08 18:17:15.991512             Tamil    Tamil-02-08-2022  \n",
       "99 2022-02-08 18:17:15.999506             Tamil    Tamil-02-08-2022  \n",
       "\n",
       "[100 rows x 36 columns]"
      ]
     },
     "execution_count": 51,
     "metadata": {},
     "output_type": "execute_result"
    }
   ],
   "source": [
    "df"
   ]
  },
  {
   "cell_type": "code",
   "execution_count": 55,
   "id": "structural-pierce",
   "metadata": {},
   "outputs": [
    {
     "data": {
      "text/plain": [
       "'https://reallivingimages.fnistools.com/images/uploads/agents/22238493/22238493.jpg'"
      ]
     },
     "execution_count": 55,
     "metadata": {},
     "output_type": "execute_result"
    }
   ],
   "source": [
    "agent_details[-2].find('img',{'class':'ao-search-agent-photo'})['src']"
   ]
  },
  {
   "cell_type": "code",
   "execution_count": 42,
   "id": "moved-marketplace",
   "metadata": {},
   "outputs": [
    {
     "data": {
      "text/plain": [
       "'07039'"
      ]
     },
     "execution_count": 42,
     "metadata": {},
     "output_type": "execute_result"
    }
   ],
   "source": [
    "address.split(' ')[-1]"
   ]
  },
  {
   "cell_type": "code",
   "execution_count": 47,
   "id": "coral-lesbian",
   "metadata": {},
   "outputs": [
    {
     "data": {
      "text/plain": [
       "'New Jersey'"
      ]
     },
     "execution_count": 47,
     "metadata": {},
     "output_type": "execute_result"
    }
   ],
   "source": [
    "address.split(',')[-1].replace(address.split(' ')[-1],'').strip()"
   ]
  },
  {
   "cell_type": "code",
   "execution_count": 22,
   "id": "finite-framework",
   "metadata": {
    "scrolled": true
   },
   "outputs": [
    {
     "data": {
      "text/plain": [
       "<div class=\"ao-social\">\n",
       "</div>"
      ]
     },
     "execution_count": 22,
     "metadata": {},
     "output_type": "execute_result"
    }
   ],
   "source": [
    "agent_detail.find('div',{'class':'ao-social'})"
   ]
  },
  {
   "cell_type": "code",
   "execution_count": 36,
   "id": "measured-stephen",
   "metadata": {},
   "outputs": [
    {
     "data": {
      "text/plain": [
       "'(413) 883-0470'"
      ]
     },
     "execution_count": 36,
     "metadata": {},
     "output_type": "execute_result"
    }
   ],
   "source": [
    "agent_details[-1].find('div',{'id':'ao-cell'}).text"
   ]
  },
  {
   "cell_type": "code",
   "execution_count": 34,
   "id": "supported-color",
   "metadata": {},
   "outputs": [
    {
     "data": {
      "text/plain": [
       "'https://www.linkedin.com/in/apontehomes'"
      ]
     },
     "execution_count": 34,
     "metadata": {},
     "output_type": "execute_result"
    }
   ],
   "source": [
    "''.join([x['href'] for x in agent_details[-8].find('div',{'class':'ao-social'}).find_all('a') if 'linkedin' in x['href']] )"
   ]
  },
  {
   "cell_type": "code",
   "execution_count": 21,
   "id": "through-institution",
   "metadata": {},
   "outputs": [
    {
     "data": {
      "text/html": [
       "<div>\n",
       "<style scoped>\n",
       "    .dataframe tbody tr th:only-of-type {\n",
       "        vertical-align: middle;\n",
       "    }\n",
       "\n",
       "    .dataframe tbody tr th {\n",
       "        vertical-align: top;\n",
       "    }\n",
       "\n",
       "    .dataframe thead th {\n",
       "        text-align: right;\n",
       "    }\n",
       "</style>\n",
       "<table border=\"1\" class=\"dataframe\">\n",
       "  <thead>\n",
       "    <tr style=\"text-align: right;\">\n",
       "      <th></th>\n",
       "      <th>Agent_url</th>\n",
       "      <th>Agent_dp</th>\n",
       "      <th>Agent_name</th>\n",
       "      <th>Agent_email</th>\n",
       "      <th>Agent_site</th>\n",
       "      <th>office_name</th>\n",
       "      <th>office_site</th>\n",
       "      <th>office_address</th>\n",
       "      <th>Other_phone</th>\n",
       "    </tr>\n",
       "  </thead>\n",
       "  <tbody>\n",
       "    <tr>\n",
       "      <th>0</th>\n",
       "      <td>https://www.realliving.com/carol.abdo</td>\n",
       "      <td></td>\n",
       "      <td>Carol Abdo</td>\n",
       "      <td>carol@jordanbaris.com</td>\n",
       "      <td>https://www.realliving.com/carol.abdo</td>\n",
       "      <td>Jordan Baris, REALTORS® Real Living - Livingston</td>\n",
       "      <td>https://www.realliving.com/Office/JordanBarisR...</td>\n",
       "      <td>124 E. Mt. Pleasant AvenueLivingston, New Jers...</td>\n",
       "      <td>(973) 476-5982 |(973) 476-5982</td>\n",
       "    </tr>\n",
       "    <tr>\n",
       "      <th>1</th>\n",
       "      <td>https://www.realliving.com/ruth.aborjaily</td>\n",
       "      <td></td>\n",
       "      <td>Ruth Aborjaily</td>\n",
       "      <td>aborbann@yahoo.com</td>\n",
       "      <td>https://www.realliving.com/ruth.aborjaily</td>\n",
       "      <td>Real Living Realty Professionals - Westfield</td>\n",
       "      <td>https://www.realliving.com/Office/RealLivingRe...</td>\n",
       "      <td>54 Court StreetWestfield, Massachusetts 01085</td>\n",
       "      <td>(413) 244-4156 |(413) 244-4156</td>\n",
       "    </tr>\n",
       "    <tr>\n",
       "      <th>2</th>\n",
       "      <td>https://www.realliving.com/joseph.abramoff</td>\n",
       "      <td></td>\n",
       "      <td>Joseph Abramoff</td>\n",
       "      <td>joseph.abramoff@realliving.com</td>\n",
       "      <td>https://www.realliving.com/joseph.abramoff</td>\n",
       "      <td>Real Living Barbera Associates - Worcester</td>\n",
       "      <td>https://www.realliving.com/Office/RealLivingBa...</td>\n",
       "      <td>451 Grove StreetWorcester, Massachusetts 01605</td>\n",
       "      <td>(508) 667-8254 |</td>\n",
       "    </tr>\n",
       "    <tr>\n",
       "      <th>3</th>\n",
       "      <td>https://www.realliving.com/lisa.abrams</td>\n",
       "      <td></td>\n",
       "      <td>Lisa Abrams</td>\n",
       "      <td>lisa@homesbytheabramsgroup.com</td>\n",
       "      <td>https://www.realliving.com/lisa.abrams</td>\n",
       "      <td>RLAH Real Estate - Chevy Chase</td>\n",
       "      <td>https://www.realliving.com/Office/RLAHRealEsta...</td>\n",
       "      <td>4600 North Park Avenue Suite 100Chevy Chase, M...</td>\n",
       "      <td>(301) 652-0643 |(301) 437-6742</td>\n",
       "    </tr>\n",
       "    <tr>\n",
       "      <th>4</th>\n",
       "      <td>https://www.realliving.com/kaci.ackley</td>\n",
       "      <td></td>\n",
       "      <td>Kaci Ackley</td>\n",
       "      <td>kaci_ackley@yahoo.com</td>\n",
       "      <td>https://www.realliving.com/kaci.ackley</td>\n",
       "      <td>Real Living The Real Estate Group - Vancouver</td>\n",
       "      <td>https://www.realliving.com/Office/RealLivingTh...</td>\n",
       "      <td>1404 NE 134th Street Suite 100Vancouver, Washi...</td>\n",
       "      <td>(360) 606-7913 |(360) 606-7913</td>\n",
       "    </tr>\n",
       "    <tr>\n",
       "      <th>...</th>\n",
       "      <td>...</td>\n",
       "      <td>...</td>\n",
       "      <td>...</td>\n",
       "      <td>...</td>\n",
       "      <td>...</td>\n",
       "      <td>...</td>\n",
       "      <td>...</td>\n",
       "      <td>...</td>\n",
       "      <td>...</td>\n",
       "    </tr>\n",
       "    <tr>\n",
       "      <th>95</th>\n",
       "      <td>https://www.realliving.com/joseph.beach</td>\n",
       "      <td></td>\n",
       "      <td>Joseph Beach</td>\n",
       "      <td>joseph@thecatlettteam.net</td>\n",
       "      <td>https://www.realliving.com/joseph.beach</td>\n",
       "      <td>RLAH Real Estate - Chevy Chase</td>\n",
       "      <td>https://www.realliving.com/Office/RLAHRealEsta...</td>\n",
       "      <td>4600 North Park Avenue Suite 100Chevy Chase, M...</td>\n",
       "      <td>(202) 893-1566 |</td>\n",
       "    </tr>\n",
       "    <tr>\n",
       "      <th>96</th>\n",
       "      <td>https://www.realliving.com/johna.beall</td>\n",
       "      <td></td>\n",
       "      <td>Johna Beall</td>\n",
       "      <td>johna@rlnorthwest.com</td>\n",
       "      <td>https://www.realliving.com/johna.beall</td>\n",
       "      <td>Real Living Northwest, REALTORS® - Bothell</td>\n",
       "      <td>https://www.realliving.com/Office/RealLivingNo...</td>\n",
       "      <td>18422 103rd Ave. NEBothell, Washington 98011</td>\n",
       "      <td>(206) 778-9599 |(206) 778-9599</td>\n",
       "    </tr>\n",
       "    <tr>\n",
       "      <th>97</th>\n",
       "      <td>https://www.realliving.com/josh.beall</td>\n",
       "      <td></td>\n",
       "      <td>Josh Beall</td>\n",
       "      <td>josh@joshbeall.com</td>\n",
       "      <td>https://www.realliving.com/josh.beall</td>\n",
       "      <td>RLAH Real Estate - Chevy Chase</td>\n",
       "      <td>https://www.realliving.com/Office/RLAHRealEsta...</td>\n",
       "      <td>4600 North Park Avenue Suite 100Chevy Chase, M...</td>\n",
       "      <td>(703) 975-2046 |</td>\n",
       "    </tr>\n",
       "    <tr>\n",
       "      <th>98</th>\n",
       "      <td>https://www.realliving.com/carley-beard</td>\n",
       "      <td></td>\n",
       "      <td>Carley Beard</td>\n",
       "      <td>carley.beard@yahoo.com</td>\n",
       "      <td>https://www.realliving.com/carley-beard</td>\n",
       "      <td>Real Living Speckman Realty, Inc. - Bourbonnais</td>\n",
       "      <td>https://www.realliving.com/Office/RealLivingSp...</td>\n",
       "      <td>612 Armour Rd.Bourbonnais, Illinois 60914</td>\n",
       "      <td>(815) 370-4111 |(815) 370-4111</td>\n",
       "    </tr>\n",
       "    <tr>\n",
       "      <th>99</th>\n",
       "      <td>https://www.realliving.com/mark.beardsley</td>\n",
       "      <td></td>\n",
       "      <td>Mark Beardsley</td>\n",
       "      <td>markbeardsleyabr@gmail.com</td>\n",
       "      <td>https://www.realliving.com/mark.beardsley</td>\n",
       "      <td>RLAH Real Estate - Arlington</td>\n",
       "      <td>https://www.realliving.com/Office/RLAHRealEsta...</td>\n",
       "      <td>4040 N. Fairfax Dr #10CArlington, Virginia 22203</td>\n",
       "      <td>(703) 629-2560 |</td>\n",
       "    </tr>\n",
       "  </tbody>\n",
       "</table>\n",
       "<p>100 rows × 9 columns</p>\n",
       "</div>"
      ],
      "text/plain": [
       "                                     Agent_url Agent_dp       Agent_name  \\\n",
       "0        https://www.realliving.com/carol.abdo                Carol Abdo   \n",
       "1    https://www.realliving.com/ruth.aborjaily            Ruth Aborjaily   \n",
       "2   https://www.realliving.com/joseph.abramoff           Joseph Abramoff   \n",
       "3       https://www.realliving.com/lisa.abrams               Lisa Abrams   \n",
       "4       https://www.realliving.com/kaci.ackley               Kaci Ackley   \n",
       "..                                         ...      ...              ...   \n",
       "95     https://www.realliving.com/joseph.beach              Joseph Beach   \n",
       "96      https://www.realliving.com/johna.beall               Johna Beall   \n",
       "97       https://www.realliving.com/josh.beall                Josh Beall   \n",
       "98     https://www.realliving.com/carley-beard              Carley Beard   \n",
       "99   https://www.realliving.com/mark.beardsley            Mark Beardsley   \n",
       "\n",
       "                       Agent_email  \\\n",
       "0            carol@jordanbaris.com   \n",
       "1               aborbann@yahoo.com   \n",
       "2   joseph.abramoff@realliving.com   \n",
       "3   lisa@homesbytheabramsgroup.com   \n",
       "4            kaci_ackley@yahoo.com   \n",
       "..                             ...   \n",
       "95       joseph@thecatlettteam.net   \n",
       "96           johna@rlnorthwest.com   \n",
       "97              josh@joshbeall.com   \n",
       "98          carley.beard@yahoo.com   \n",
       "99      markbeardsleyabr@gmail.com   \n",
       "\n",
       "                                    Agent_site  \\\n",
       "0        https://www.realliving.com/carol.abdo   \n",
       "1    https://www.realliving.com/ruth.aborjaily   \n",
       "2   https://www.realliving.com/joseph.abramoff   \n",
       "3       https://www.realliving.com/lisa.abrams   \n",
       "4       https://www.realliving.com/kaci.ackley   \n",
       "..                                         ...   \n",
       "95     https://www.realliving.com/joseph.beach   \n",
       "96      https://www.realliving.com/johna.beall   \n",
       "97       https://www.realliving.com/josh.beall   \n",
       "98     https://www.realliving.com/carley-beard   \n",
       "99   https://www.realliving.com/mark.beardsley   \n",
       "\n",
       "                                         office_name  \\\n",
       "0   Jordan Baris, REALTORS® Real Living - Livingston   \n",
       "1       Real Living Realty Professionals - Westfield   \n",
       "2         Real Living Barbera Associates - Worcester   \n",
       "3                     RLAH Real Estate - Chevy Chase   \n",
       "4      Real Living The Real Estate Group - Vancouver   \n",
       "..                                               ...   \n",
       "95                    RLAH Real Estate - Chevy Chase   \n",
       "96        Real Living Northwest, REALTORS® - Bothell   \n",
       "97                    RLAH Real Estate - Chevy Chase   \n",
       "98   Real Living Speckman Realty, Inc. - Bourbonnais   \n",
       "99                      RLAH Real Estate - Arlington   \n",
       "\n",
       "                                          office_site  \\\n",
       "0   https://www.realliving.com/Office/JordanBarisR...   \n",
       "1   https://www.realliving.com/Office/RealLivingRe...   \n",
       "2   https://www.realliving.com/Office/RealLivingBa...   \n",
       "3   https://www.realliving.com/Office/RLAHRealEsta...   \n",
       "4   https://www.realliving.com/Office/RealLivingTh...   \n",
       "..                                                ...   \n",
       "95  https://www.realliving.com/Office/RLAHRealEsta...   \n",
       "96  https://www.realliving.com/Office/RealLivingNo...   \n",
       "97  https://www.realliving.com/Office/RLAHRealEsta...   \n",
       "98  https://www.realliving.com/Office/RealLivingSp...   \n",
       "99  https://www.realliving.com/Office/RLAHRealEsta...   \n",
       "\n",
       "                                       office_address  \\\n",
       "0   124 E. Mt. Pleasant AvenueLivingston, New Jers...   \n",
       "1       54 Court StreetWestfield, Massachusetts 01085   \n",
       "2      451 Grove StreetWorcester, Massachusetts 01605   \n",
       "3   4600 North Park Avenue Suite 100Chevy Chase, M...   \n",
       "4   1404 NE 134th Street Suite 100Vancouver, Washi...   \n",
       "..                                                ...   \n",
       "95  4600 North Park Avenue Suite 100Chevy Chase, M...   \n",
       "96       18422 103rd Ave. NEBothell, Washington 98011   \n",
       "97  4600 North Park Avenue Suite 100Chevy Chase, M...   \n",
       "98          612 Armour Rd.Bourbonnais, Illinois 60914   \n",
       "99   4040 N. Fairfax Dr #10CArlington, Virginia 22203   \n",
       "\n",
       "                       Other_phone  \n",
       "0   (973) 476-5982 |(973) 476-5982  \n",
       "1   (413) 244-4156 |(413) 244-4156  \n",
       "2                 (508) 667-8254 |  \n",
       "3   (301) 652-0643 |(301) 437-6742  \n",
       "4   (360) 606-7913 |(360) 606-7913  \n",
       "..                             ...  \n",
       "95                (202) 893-1566 |  \n",
       "96  (206) 778-9599 |(206) 778-9599  \n",
       "97                (703) 975-2046 |  \n",
       "98  (815) 370-4111 |(815) 370-4111  \n",
       "99                (703) 629-2560 |  \n",
       "\n",
       "[100 rows x 9 columns]"
      ]
     },
     "execution_count": 21,
     "metadata": {},
     "output_type": "execute_result"
    }
   ],
   "source": [
    "df"
   ]
  },
  {
   "cell_type": "code",
   "execution_count": 93,
   "id": "stainless-montgomery",
   "metadata": {},
   "outputs": [],
   "source": [
    "df.to_csv('Real_living_sample.csv',index=False)"
   ]
  },
  {
   "cell_type": "code",
   "execution_count": 54,
   "id": "active-silly",
   "metadata": {},
   "outputs": [],
   "source": [
    "other_phone = '|'.join([x.text for x in agent_detail.find_all('div', {'class':'ao-phone'})])"
   ]
  },
  {
   "cell_type": "code",
   "execution_count": 55,
   "id": "musical-remark",
   "metadata": {},
   "outputs": [
    {
     "data": {
      "text/plain": [
       "'(386) 986-8938 |(386) 986-8938'"
      ]
     },
     "execution_count": 55,
     "metadata": {},
     "output_type": "execute_result"
    }
   ],
   "source": [
    "other_phone"
   ]
  },
  {
   "cell_type": "code",
   "execution_count": 40,
   "id": "adequate-muscle",
   "metadata": {},
   "outputs": [],
   "source": [
    "agent_site  = agent_detail.find('div',{'class':'ao-info-r3 rui-inner-row'}).find('span',{'class':'view-website-container'}).find('a')['href']"
   ]
  },
  {
   "cell_type": "code",
   "execution_count": 41,
   "id": "significant-inside",
   "metadata": {},
   "outputs": [
    {
     "data": {
      "text/plain": [
       "'https://www.realliving.com/steven.andrade'"
      ]
     },
     "execution_count": 41,
     "metadata": {},
     "output_type": "execute_result"
    }
   ],
   "source": [
    "agent_site"
   ]
  },
  {
   "cell_type": "code",
   "execution_count": 44,
   "id": "collective-parameter",
   "metadata": {},
   "outputs": [],
   "source": [
    "address = agent_detail.find('div',{'class':'ao-address'}).text.replace('\\n','')"
   ]
  },
  {
   "cell_type": "code",
   "execution_count": 45,
   "id": "incomplete-luxembourg",
   "metadata": {},
   "outputs": [
    {
     "data": {
      "text/plain": [
       "'2 Florida Park Drive NorthPalm Coast, Florida 32137'"
      ]
     },
     "execution_count": 45,
     "metadata": {},
     "output_type": "execute_result"
    }
   ],
   "source": [
    "address"
   ]
  },
  {
   "cell_type": "code",
   "execution_count": 48,
   "id": "sensitive-vulnerability",
   "metadata": {},
   "outputs": [],
   "source": [
    "office_name =  agent_detail.find('div',{'class':'ao-office'}).text.replace('\\n','')"
   ]
  },
  {
   "cell_type": "code",
   "execution_count": 49,
   "id": "patient-shore",
   "metadata": {},
   "outputs": [
    {
     "data": {
      "text/plain": [
       "'Real Living Palm West Home Realty, Inc. - Palm Coast'"
      ]
     },
     "execution_count": 49,
     "metadata": {},
     "output_type": "execute_result"
    }
   ],
   "source": [
    "office_name"
   ]
  },
  {
   "cell_type": "code",
   "execution_count": 50,
   "id": "chronic-physiology",
   "metadata": {},
   "outputs": [],
   "source": [
    "office_link =  agent_detail.find('div',{'class':'ao-office'}).find('a')['href']"
   ]
  },
  {
   "cell_type": "code",
   "execution_count": 51,
   "id": "unauthorized-mountain",
   "metadata": {},
   "outputs": [
    {
     "data": {
      "text/plain": [
       "'https://www.realliving.com/Office/RealLivingPalmWestHomeRealtyInc-262793'"
      ]
     },
     "execution_count": 51,
     "metadata": {},
     "output_type": "execute_result"
    }
   ],
   "source": [
    "office_link"
   ]
  },
  {
   "cell_type": "code",
   "execution_count": 58,
   "id": "secondary-drove",
   "metadata": {},
   "outputs": [],
   "source": [
    "agent_dp = agent_detail.find('div',{'class':'ao-photo-container'}).find('img')['src']"
   ]
  },
  {
   "cell_type": "code",
   "execution_count": 59,
   "id": "roman-cambridge",
   "metadata": {},
   "outputs": [
    {
     "data": {
      "text/plain": [
       "'https://reallivingimages.fnistools.com/images/uploads/agents/10394303/10394303.jpg'"
      ]
     },
     "execution_count": 59,
     "metadata": {},
     "output_type": "execute_result"
    }
   ],
   "source": [
    "agent_dp"
   ]
  },
  {
   "cell_type": "code",
   "execution_count": 72,
   "id": "built-chrome",
   "metadata": {
    "scrolled": true
   },
   "outputs": [
    {
     "name": "stdout",
     "output_type": "stream",
     "text": [
      "AgentEmailAddress=stevensells4u@att.net\n"
     ]
    }
   ],
   "source": [
    "Agent_email = ''\n",
    "for check in  agent_detail.find('span',{'class':'ao-view-contact-container'}).find('a')['href'].split('&'):\n",
    "    if 'Email' in check:\n",
    "        print(check)\n",
    "        Agent_email = check.replace('AgentEmailAddress=','')"
   ]
  },
  {
   "cell_type": "code",
   "execution_count": 73,
   "id": "concerned-festival",
   "metadata": {},
   "outputs": [
    {
     "data": {
      "text/plain": [
       "'stevensells4u@att.net'"
      ]
     },
     "execution_count": 73,
     "metadata": {},
     "output_type": "execute_result"
    }
   ],
   "source": [
    "Agent_email"
   ]
  },
  {
   "cell_type": "code",
   "execution_count": 69,
   "id": "dimensional-brand",
   "metadata": {},
   "outputs": [
    {
     "ename": "SyntaxError",
     "evalue": "invalid syntax (<ipython-input-69-2e8897cdcbcf>, line 1)",
     "output_type": "error",
     "traceback": [
      "\u001b[1;36m  File \u001b[1;32m\"<ipython-input-69-2e8897cdcbcf>\"\u001b[1;36m, line \u001b[1;32m1\u001b[0m\n\u001b[1;33m    email = ''.join([x for x in agent_detail.find('span',{'class':'ao-view-contact-container'}).find('a')['href'].split('&')] if 'Email' in x)\u001b[0m\n\u001b[1;37m                                                                                                                                             ^\u001b[0m\n\u001b[1;31mSyntaxError\u001b[0m\u001b[1;31m:\u001b[0m invalid syntax\n"
     ]
    }
   ],
   "source": [
    "email = ''.join([x for x in agent_detail.find('span',{'class':'ao-view-contact-container'}).find('a')['href'].split('&')] if 'Email' in x)     "
   ]
  },
  {
   "cell_type": "code",
   "execution_count": 67,
   "id": "brown-syndicate",
   "metadata": {},
   "outputs": [
    {
     "data": {
      "text/plain": [
       "[\"javascript:openContactMe('/Content/Forms/ContactMe.aspx?FormID=3\",\n",
       " 'AgentEmailAddress=stevensells4u@att.net',\n",
       " 'AgentFlg=1',\n",
       " 'IsPopup=1',\n",
       " 'WebsiteID=398837',\n",
       " \"IsWebsite=1')\"]"
      ]
     },
     "execution_count": 67,
     "metadata": {},
     "output_type": "execute_result"
    }
   ],
   "source": [
    "email"
   ]
  },
  {
   "cell_type": "code",
   "execution_count": 94,
   "id": "exotic-coach",
   "metadata": {},
   "outputs": [],
   "source": [
    "address = '210 W. University Suite 4 Rochester, Michigan 48307'"
   ]
  },
  {
   "cell_type": "code",
   "execution_count": 97,
   "id": "moderate-working",
   "metadata": {},
   "outputs": [],
   "source": [
    "city = address.split(' ')[-1]"
   ]
  },
  {
   "cell_type": "code",
   "execution_count": 98,
   "id": "spatial-anatomy",
   "metadata": {},
   "outputs": [
    {
     "data": {
      "text/plain": [
       "'48307'"
      ]
     },
     "execution_count": 98,
     "metadata": {},
     "output_type": "execute_result"
    }
   ],
   "source": [
    "city"
   ]
  },
  {
   "cell_type": "code",
   "execution_count": 99,
   "id": "nuclear-advance",
   "metadata": {},
   "outputs": [],
   "source": [
    "import requests"
   ]
  },
  {
   "cell_type": "code",
   "execution_count": 101,
   "id": "distant-manual",
   "metadata": {},
   "outputs": [],
   "source": [
    "page = requests.get('https://www.coldwellbanker.ca/agents/ca')"
   ]
  },
  {
   "cell_type": "code",
   "execution_count": 104,
   "id": "impossible-links",
   "metadata": {},
   "outputs": [],
   "source": [
    " soup = BeautifulSoup(page.content,'html.parser')"
   ]
  },
  {
   "cell_type": "code",
   "execution_count": 106,
   "id": "painful-jacob",
   "metadata": {},
   "outputs": [
    {
     "data": {
      "text/plain": [
       "<div class=\"agent-view-listing\">\n",
       "<a href=\"https://www.coldwellbanker.ca/agent/dean-lapointe-v6g3k3/\">\n",
       "<div class=\"btn ivan-button outline round-square large with-text primary-bg\">\n",
       "\t\t\t\t\t\t\tView Profile\t\t\t\t\t\t</div>\n",
       "</a>\n",
       "</div>"
      ]
     },
     "execution_count": 106,
     "metadata": {},
     "output_type": "execute_result"
    }
   ],
   "source": [
    "soup.find(attrs={'class':'agent-view-listing'})"
   ]
  },
  {
   "cell_type": "code",
   "execution_count": 107,
   "id": "native-syndrome",
   "metadata": {},
   "outputs": [],
   "source": [
    "import scrapy"
   ]
  },
  {
   "cell_type": "code",
   "execution_count": 109,
   "id": "technological-jacksonville",
   "metadata": {},
   "outputs": [],
   "source": [
    "response = scrapy.Request('https://www.coldwellbanker.ca/agents/ca')"
   ]
  },
  {
   "cell_type": "code",
   "execution_count": null,
   "id": "large-house",
   "metadata": {},
   "outputs": [],
   "source": []
  },
  {
   "cell_type": "code",
   "execution_count": null,
   "id": "static-hazard",
   "metadata": {},
   "outputs": [],
   "source": []
  }
 ],
 "metadata": {
  "kernelspec": {
   "display_name": "Python 3",
   "language": "python",
   "name": "python3"
  },
  "language_info": {
   "codemirror_mode": {
    "name": "ipython",
    "version": 3
   },
   "file_extension": ".py",
   "mimetype": "text/x-python",
   "name": "python",
   "nbconvert_exporter": "python",
   "pygments_lexer": "ipython3",
   "version": "3.7.9"
  }
 },
 "nbformat": 4,
 "nbformat_minor": 5
}
